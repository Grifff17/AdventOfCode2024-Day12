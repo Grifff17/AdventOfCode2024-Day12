{
 "cells": [
  {
   "cell_type": "code",
   "execution_count": 27,
   "metadata": {},
   "outputs": [],
   "source": [
    "import pandas as pd\n",
    "import numpy as np\n",
    "from utils import *\n",
    "import math\n",
    "import functools\n",
    "import copy"
   ]
  },
  {
   "cell_type": "code",
   "execution_count": 28,
   "metadata": {},
   "outputs": [],
   "source": [
    "data = fileRead(\"input.txt\")"
   ]
  },
  {
   "cell_type": "markdown",
   "metadata": {},
   "source": [
    "## Part 1"
   ]
  },
  {
   "cell_type": "code",
   "execution_count": 29,
   "metadata": {},
   "outputs": [],
   "source": [
    "grid = [ list(i.strip()) for i in data]"
   ]
  },
  {
   "cell_type": "code",
   "execution_count": 30,
   "metadata": {},
   "outputs": [],
   "source": [
    "dirs = [(1,0),(-1,0),(0,1),(0,-1)]\n",
    "areaVisited = []\n",
    "totalVisited = []\n",
    "\n",
    "def floodFill(pos, target):\n",
    "    area = 1\n",
    "    perimeter = 0\n",
    "    \n",
    "    for dir in dirs:\n",
    "        newPos = posAdd(pos, dir)\n",
    "        if inGrid(newPos, grid) and grid[newPos[0]][newPos[1]] == target and newPos not in areaVisited:\n",
    "            areaVisited.append(newPos)\n",
    "            totalVisited.append(newPos)\n",
    "            a, p = floodFill(newPos, target)\n",
    "            area = area + a\n",
    "            perimeter = perimeter + p\n",
    "        elif newPos not in areaVisited:\n",
    "            perimeter = perimeter + 1\n",
    "        \n",
    "    return area, perimeter"
   ]
  },
  {
   "cell_type": "code",
   "execution_count": 31,
   "metadata": {},
   "outputs": [
    {
     "data": {
      "text/plain": [
       "1363682"
      ]
     },
     "execution_count": 31,
     "metadata": {},
     "output_type": "execute_result"
    }
   ],
   "source": [
    "totalVisited = []\n",
    "sum = 0\n",
    "\n",
    "for i in range(len(grid)):\n",
    "    for j in range(len(grid[0])):\n",
    "        if (i,j) not in totalVisited:\n",
    "            areaVisited = [(i,j)]\n",
    "            totalVisited.append((i,j))\n",
    "            a, p = floodFill((i,j),grid[i][j])\n",
    "            sum = sum + (a*p)\n",
    "sum"
   ]
  },
  {
   "cell_type": "markdown",
   "metadata": {},
   "source": [
    "## Part 2"
   ]
  },
  {
   "cell_type": "code",
   "execution_count": null,
   "metadata": {},
   "outputs": [],
   "source": []
  }
 ],
 "metadata": {
  "kernelspec": {
   "display_name": "base",
   "language": "python",
   "name": "python3"
  },
  "language_info": {
   "codemirror_mode": {
    "name": "ipython",
    "version": 3
   },
   "file_extension": ".py",
   "mimetype": "text/x-python",
   "name": "python",
   "nbconvert_exporter": "python",
   "pygments_lexer": "ipython3",
   "version": "3.11.7"
  }
 },
 "nbformat": 4,
 "nbformat_minor": 2
}
