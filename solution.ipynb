{
 "cells": [
  {
   "cell_type": "code",
   "execution_count": 1,
   "metadata": {},
   "outputs": [],
   "source": [
    "import pandas as pd\n",
    "import numpy as np\n",
    "from utils import *\n",
    "import math\n",
    "import functools\n",
    "import copy"
   ]
  },
  {
   "cell_type": "code",
   "execution_count": 2,
   "metadata": {},
   "outputs": [],
   "source": [
    "data = fileRead(\"input.txt\")"
   ]
  },
  {
   "cell_type": "markdown",
   "metadata": {},
   "source": [
    "## Part 1"
   ]
  },
  {
   "cell_type": "code",
   "execution_count": 3,
   "metadata": {},
   "outputs": [],
   "source": [
    "grid = [ list(i.strip()) for i in data]"
   ]
  },
  {
   "cell_type": "code",
   "execution_count": 4,
   "metadata": {},
   "outputs": [],
   "source": [
    "dirs = [(1,0),(-1,0),(0,1),(0,-1)]\n",
    "areaVisited = []\n",
    "totalVisited = []\n",
    "\n",
    "def floodFill(pos, target):\n",
    "    area = 1\n",
    "    perimeter = 0\n",
    "    \n",
    "    for dir in dirs:\n",
    "        newPos = posAdd(pos, dir)\n",
    "        if inGrid(newPos, grid) and grid[newPos[0]][newPos[1]] == target and newPos not in areaVisited:\n",
    "            areaVisited.append(newPos)\n",
    "            totalVisited.append(newPos)\n",
    "            a, p = floodFill(newPos, target)\n",
    "            area = area + a\n",
    "            perimeter = perimeter + p\n",
    "        elif newPos not in areaVisited:\n",
    "            perimeter = perimeter + 1\n",
    "        \n",
    "    return area, perimeter"
   ]
  },
  {
   "cell_type": "code",
   "execution_count": 5,
   "metadata": {},
   "outputs": [
    {
     "data": {
      "text/plain": [
       "1363682"
      ]
     },
     "execution_count": 5,
     "metadata": {},
     "output_type": "execute_result"
    }
   ],
   "source": [
    "totalVisited = []\n",
    "sum = 0\n",
    "\n",
    "for i in range(len(grid)):\n",
    "    for j in range(len(grid[0])):\n",
    "        if (i,j) not in totalVisited:\n",
    "            areaVisited = [(i,j)]\n",
    "            totalVisited.append((i,j))\n",
    "            a, p = floodFill((i,j),grid[i][j])\n",
    "            sum = sum + (a*p)\n",
    "sum"
   ]
  },
  {
   "cell_type": "markdown",
   "metadata": {},
   "source": [
    "## Part 2"
   ]
  },
  {
   "cell_type": "code",
   "execution_count": 6,
   "metadata": {},
   "outputs": [],
   "source": [
    "dirs = [(1,0),(-1,0),(0,1),(0,-1)]\n",
    "areaVisited = []\n",
    "totalVisited = []\n",
    "sidesVisited = {}\n",
    "\n",
    "def floodFill2(pos, target):\n",
    "    area = 1\n",
    "    perimeter = 0\n",
    "    sides = []\n",
    "    \n",
    "    #flooding\n",
    "    for dir in dirs:\n",
    "        newPos = posAdd(pos, dir)\n",
    "        if inGrid(newPos, grid) and grid[newPos[0]][newPos[1]] == target and newPos not in areaVisited:\n",
    "            areaVisited.append(newPos)\n",
    "            totalVisited.append(newPos)\n",
    "            a, p = floodFill2(newPos, target)\n",
    "            area = area + a\n",
    "            perimeter = perimeter + p\n",
    "        elif newPos not in areaVisited:\n",
    "            sides.append(dir)\n",
    "\n",
    "    #exterior corner detection\n",
    "    oppCors = []\n",
    "    if len(sides) == 4:\n",
    "        perimeter = perimeter + 4\n",
    "    elif len(sides) == 3:\n",
    "        perimeter = perimeter + 2\n",
    "        for pair in [(0,1),(0,2),(1,2)]:\n",
    "            checkPos = posAdd(sides[pair[0]], sides[pair[1]])\n",
    "            if checkPos != (0,0):\n",
    "                oppCors.append(checkPos)\n",
    "    elif len(sides) == 2:\n",
    "        if posAdd(sides[0],sides[1]) != (0,0):\n",
    "            perimeter = perimeter + 1\n",
    "        oppCors.append(posAdd(sides[0],sides[1]))\n",
    "    #interior corner detection\n",
    "    for dir in sides:\n",
    "        newPos = posAdd(pos, dir)\n",
    "        if newPos in sidesVisited.keys():\n",
    "            for oldDir in sidesVisited[newPos]:\n",
    "                if posAdd(dir, oldDir) != (0,0) and posAdd(dir, posMult(oldDir,(-1,-1))) not in oppCors:\n",
    "                    perimeter = perimeter + 1\n",
    "            sidesVisited[newPos] = sidesVisited[newPos] + (dir,)\n",
    "        else:\n",
    "            sidesVisited[newPos] = (dir,)\n",
    "\n",
    "    \n",
    "        \n",
    "    return area, perimeter\n"
   ]
  },
  {
   "cell_type": "code",
   "execution_count": 7,
   "metadata": {},
   "outputs": [
    {
     "data": {
      "text/plain": [
       "787680"
      ]
     },
     "execution_count": 7,
     "metadata": {},
     "output_type": "execute_result"
    }
   ],
   "source": [
    "totalVisited = []\n",
    "sum = 0\n",
    "\n",
    "for i in range(len(grid)):\n",
    "    for j in range(len(grid[0])):\n",
    "        if (i,j) not in totalVisited:\n",
    "            areaVisited = [(i,j)]\n",
    "            sidesVisited = {}\n",
    "            totalVisited.append((i,j))\n",
    "            a, p = floodFill2((i,j),grid[i][j])\n",
    "            sum = sum + (a*p)\n",
    "sum"
   ]
  }
 ],
 "metadata": {
  "kernelspec": {
   "display_name": "base",
   "language": "python",
   "name": "python3"
  },
  "language_info": {
   "codemirror_mode": {
    "name": "ipython",
    "version": 3
   },
   "file_extension": ".py",
   "mimetype": "text/x-python",
   "name": "python",
   "nbconvert_exporter": "python",
   "pygments_lexer": "ipython3",
   "version": "3.11.7"
  }
 },
 "nbformat": 4,
 "nbformat_minor": 2
}
